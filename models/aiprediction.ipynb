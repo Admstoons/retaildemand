{
  "cells": [
    {
      "cell_type": "code",
      "execution_count": 16,
      "metadata": {
        "id": "b2MdjKvQdhQk"
      },
      "outputs": [
        {
          "name": "stdout",
          "output_type": "stream",
          "text": [
            "   Store        Date  Weekly_Sales  Holiday_Flag  Temperature  Fuel_Price  \\\n",
            "0      1  05-02-2010    1643690.90             0        42.31       2.572   \n",
            "1      1  12-02-2010    1641957.44             1        38.51       2.548   \n",
            "2      1  19-02-2010    1611968.17             0        39.93       2.514   \n",
            "3      1  26-02-2010    1409727.59             0        46.63       2.561   \n",
            "4      1  05-03-2010    1554806.68             0        46.50       2.625   \n",
            "\n",
            "          CPI  Unemployment  \n",
            "0  211.096358         8.106  \n",
            "1  211.242170         8.106  \n",
            "2  211.289143         8.106  \n",
            "3  211.319643         8.106  \n",
            "4  211.350143         8.106  \n"
          ]
        }
      ],
      "source": [
        "import pandas as pd\n",
        "import numpy as np\n",
        "# import tensorflow as tf\n",
        "import seaborn as sns\n",
        "import matplotlib.pyplot as plt\n",
        "# import sklearn.preprocessing import LabelEncoder\n",
        "from sklearn.model_selection import train_test_split\n",
        "from sklearn.preprocessing import MinMaxScaler\n",
        "import matplotlib.pyplot as plt\n",
        "# from google.colab import files\n",
        "from tensorflow.keras.models import Sequential\n",
        "from tensorflow.keras.layers import LSTM, Dense, Dropout, BatchNormalization\n",
        "from tensorflow.keras.callbacks import EarlyStopping\n",
        "\n",
        "# Step 2: Upload dataset\n",
        "# uploaded = files.upload()  # Upload your dataset file here\n",
        "walmart = pd.read_csv('C:/Users/dell xps 15/Desktop/dataset/walmart.csv')  # Replace with your file name\n",
        "print(walmart.head())  # Display first 5 rows of data to confirm it's loaded\n",
        "\n"
      ]
    },
    {
      "cell_type": "code",
      "execution_count": 17,
      "metadata": {
        "colab": {
          "base_uri": "https://localhost:8080/"
        },
        "id": "1fTZ7qilqD-K",
        "outputId": "fe0ccc5b-58d8-435b-f020-bcda15a51046"
      },
      "outputs": [
        {
          "data": {
            "text/plain": [
              "(6435, 8)"
            ]
          },
          "execution_count": 17,
          "metadata": {},
          "output_type": "execute_result"
        }
      ],
      "source": [
        "walmart.shape"
      ]
    },
    {
      "cell_type": "markdown",
      "metadata": {
        "id": "hjprhsbaqMCH"
      },
      "source": []
    },
    {
      "cell_type": "markdown",
      "metadata": {
        "id": "QtsLJypLqwXt"
      },
      "source": [
        "getting some information about the dataset"
      ]
    },
    {
      "cell_type": "code",
      "execution_count": 18,
      "metadata": {
        "colab": {
          "base_uri": "https://localhost:8080/"
        },
        "id": "8pDUn80Gq4CP",
        "outputId": "481f6c52-f74e-42e1-e47d-b3aab58dd119"
      },
      "outputs": [
        {
          "name": "stdout",
          "output_type": "stream",
          "text": [
            "<class 'pandas.core.frame.DataFrame'>\n",
            "RangeIndex: 6435 entries, 0 to 6434\n",
            "Data columns (total 8 columns):\n",
            " #   Column        Non-Null Count  Dtype  \n",
            "---  ------        --------------  -----  \n",
            " 0   Store         6435 non-null   int64  \n",
            " 1   Date          6435 non-null   object \n",
            " 2   Weekly_Sales  6435 non-null   float64\n",
            " 3   Holiday_Flag  6435 non-null   int64  \n",
            " 4   Temperature   6435 non-null   float64\n",
            " 5   Fuel_Price    6435 non-null   float64\n",
            " 6   CPI           6435 non-null   float64\n",
            " 7   Unemployment  6435 non-null   float64\n",
            "dtypes: float64(5), int64(2), object(1)\n",
            "memory usage: 402.3+ KB\n"
          ]
        }
      ],
      "source": [
        "walmart.info()"
      ]
    },
    {
      "cell_type": "markdown",
      "metadata": {
        "id": "y6-OlC9DqOBc"
      },
      "source": [
        "# checking the missing value"
      ]
    },
    {
      "cell_type": "code",
      "execution_count": 19,
      "metadata": {
        "colab": {
          "base_uri": "https://localhost:8080/",
          "height": 335
        },
        "id": "g-44JyzQqdiQ",
        "outputId": "390cf981-dc69-430e-9f2d-96e64ee5c78a"
      },
      "outputs": [
        {
          "data": {
            "text/plain": [
              "Store           0\n",
              "Date            0\n",
              "Weekly_Sales    0\n",
              "Holiday_Flag    0\n",
              "Temperature     0\n",
              "Fuel_Price      0\n",
              "CPI             0\n",
              "Unemployment    0\n",
              "dtype: int64"
            ]
          },
          "execution_count": 19,
          "metadata": {},
          "output_type": "execute_result"
        }
      ],
      "source": [
        "walmart.isnull().sum()"
      ]
    },
    {
      "cell_type": "markdown",
      "metadata": {
        "id": "ld0lWcxLtVlF"
      },
      "source": [
        "Handling missing value with mean  \n",
        "\n",
        "mean - average value\n",
        "mode - most repeated value\n",
        "\n",
        "#mean value of  'Date' column\n",
        "data['Date'].mean()\n",
        "\n",
        "\n",
        "data['Date'].fillna(data['Date'].mean(), inplace=True)  \n",
        "\n",
        "Replacing the missing value with mode\n",
        "\n",
        "\n",
        "mode_of_outlet_size = data.pivot_table(values = 'Outlet_size', columns = 'Outlet_type ', aggfunc = (lamda x: x.mode()[0]))\n",
        "\n",
        "print (mode_of_outlet_size)\n",
        "\n",
        "\n",
        "Replacing  missing value with the mode\n",
        "data.loc[missing_value, 'Outlet_size'] = data.loc[missing_values, 'outlet_type'].apply(lamda x: mode_of_outlet_size)"
      ]
    },
    {
      "cell_type": "code",
      "execution_count": 20,
      "metadata": {
        "colab": {
          "base_uri": "https://localhost:8080/",
          "height": 335
        },
        "id": "tkIcoyKA06Rn",
        "outputId": "5046dcdb-6123-46a7-c76b-ef9fd0b3a8f8"
      },
      "outputs": [
        {
          "data": {
            "text/plain": [
              "Store           0\n",
              "Date            0\n",
              "Weekly_Sales    0\n",
              "Holiday_Flag    0\n",
              "Temperature     0\n",
              "Fuel_Price      0\n",
              "CPI             0\n",
              "Unemployment    0\n",
              "dtype: int64"
            ]
          },
          "execution_count": 20,
          "metadata": {},
          "output_type": "execute_result"
        }
      ],
      "source": [
        "walmart.isnull().sum()"
      ]
    },
    {
      "cell_type": "markdown",
      "metadata": {
        "id": "pG7fsdTz6ZvV"
      },
      "source": []
    },
    {
      "cell_type": "markdown",
      "metadata": {
        "id": "shZU1yim1Jik"
      },
      "source": [
        "Data Analysis\n",
        "\n",
        "#To check statistical measure about the data\n",
        "data.descibe()"
      ]
    },
    {
      "cell_type": "markdown",
      "metadata": {
        "id": "w-6hO_Xl6uEu"
      },
      "source": [
        "Numerical features of the data"
      ]
    },
    {
      "cell_type": "code",
      "execution_count": 21,
      "metadata": {
        "id": "mRjNe7PJ8Zla"
      },
      "outputs": [],
      "source": [
        "# Convert Date column to datetime format\n",
        "walmart[\"Date\"] = pd.to_datetime(walmart[\"Date\"], format=\"%d-%m-%Y\")"
      ]
    },
    {
      "cell_type": "markdown",
      "metadata": {
        "id": "Fzru7spJ9PEi"
      },
      "source": [
        "Displaying the distribution of entities in a graph plot\n",
        "\n",
        "plt.figure(figsize = (6, 6))\n",
        "sns.distplot(data['entity'])\n",
        "plt.show()\n",
        "\n",
        "Showing year column\n",
        "plt.figure(figsize = (6, 6))\n",
        "sns.countplot(x = 'year entity column', data=data)\n",
        "plt.show()"
      ]
    },
    {
      "cell_type": "markdown",
      "metadata": {
        "id": "h8MtlVBQBV4_"
      },
      "source": [
        "Data preprocessing using LabelEncoding"
      ]
    },
    {
      "cell_type": "markdown",
      "metadata": {
        "id": "DvadXlPVD1kr"
      },
      "source": [
        "data['Date'].value_counts()\n",
        "\n",
        "after showing the count we will replace all the string value to two values of the string"
      ]
    },
    {
      "cell_type": "code",
      "execution_count": 22,
      "metadata": {
        "colab": {
          "base_uri": "https://localhost:8080/",
          "height": 1000
        },
        "id": "3qKwA5adEPmG",
        "outputId": "5fdedc5f-4f61-48e6-a2a4-e9f4650128ae"
      },
      "outputs": [
        {
          "data": {
            "text/plain": [
              "Store\n",
              "1     143\n",
              "24    143\n",
              "26    143\n",
              "27    143\n",
              "28    143\n",
              "29    143\n",
              "30    143\n",
              "31    143\n",
              "32    143\n",
              "33    143\n",
              "34    143\n",
              "35    143\n",
              "36    143\n",
              "37    143\n",
              "38    143\n",
              "39    143\n",
              "40    143\n",
              "41    143\n",
              "42    143\n",
              "43    143\n",
              "44    143\n",
              "25    143\n",
              "23    143\n",
              "2     143\n",
              "22    143\n",
              "3     143\n",
              "4     143\n",
              "5     143\n",
              "6     143\n",
              "7     143\n",
              "8     143\n",
              "9     143\n",
              "10    143\n",
              "11    143\n",
              "12    143\n",
              "13    143\n",
              "14    143\n",
              "15    143\n",
              "16    143\n",
              "17    143\n",
              "18    143\n",
              "19    143\n",
              "20    143\n",
              "21    143\n",
              "45    143\n",
              "Name: count, dtype: int64"
            ]
          },
          "execution_count": 22,
          "metadata": {},
          "output_type": "execute_result"
        }
      ],
      "source": [
        "walmart['Store'].value_counts()"
      ]
    },
    {
      "cell_type": "markdown",
      "metadata": {
        "id": "0yxpKBB4FomP"
      },
      "source": [
        "label encoding\n"
      ]
    },
    {
      "cell_type": "code",
      "execution_count": null,
      "metadata": {
        "id": "DMMN3UifheUw"
      },
      "outputs": [],
      "source": [
        "# from sklearn.calibration import LabelEncoder # type: ignore\n",
        "\n",
        "\n",
        "# encoder = LabelEncoder()"
      ]
    },
    {
      "cell_type": "code",
      "execution_count": null,
      "metadata": {
        "colab": {
          "base_uri": "https://localhost:8080/",
          "height": 211
        },
        "id": "XS1sWbmbhpDj",
        "outputId": "5d0d2e06-83d1-4f32-a1d2-c610216092aa"
      },
      "outputs": [],
      "source": [
        "# walmart['Store'] = encoder.fit_transform(walmart['Store'])\n",
        "\n",
        "# walmart['Date'] = encoder.fit_transform(walmart['Date'])\n",
        "\n",
        "# walmart['Weekly_Sales'] = encoder.fit_transform(walmart['Weekly_Sales'])\n",
        "\n",
        "# walmart['Holiday_Flag'] = encoder.fit_transform(walmart['Holiday_Flag'])\n",
        "\n",
        "# walmart['Temperature'] = encoder.fit_transform(walmart['Temperature'])\n",
        "\n",
        "# walmart['Fuel_Price'] = encoder.fit_transform(walmart['Fuel_Price'])\n",
        "\n",
        "# walmart['CPI'] = encoder.fit_transform(walmart['CPI'])\n",
        "\n",
        "# walmart['Unemployment'] = encoder.fit_transform(walmart['Unemployment'])\n"
      ]
    },
    {
      "cell_type": "code",
      "execution_count": 23,
      "metadata": {},
      "outputs": [
        {
          "name": "stdout",
          "output_type": "stream",
          "text": [
            "   Store       Date  Weekly_Sales  Holiday_Flag  Temperature  Fuel_Price  \\\n",
            "0      1 2010-02-05    1643690.90             0        42.31       2.572   \n",
            "1      1 2010-02-12    1641957.44             1        38.51       2.548   \n",
            "2      1 2010-02-19    1611968.17             0        39.93       2.514   \n",
            "3      1 2010-02-26    1409727.59             0        46.63       2.561   \n",
            "4      1 2010-03-05    1554806.68             0        46.50       2.625   \n",
            "\n",
            "          CPI  Unemployment  \n",
            "0  211.096358         8.106  \n",
            "1  211.242170         8.106  \n",
            "2  211.289143         8.106  \n",
            "3  211.319643         8.106  \n",
            "4  211.350143         8.106  \n"
          ]
        }
      ],
      "source": [
        "print(walmart.head()) "
      ]
    },
    {
      "cell_type": "code",
      "execution_count": 24,
      "metadata": {},
      "outputs": [
        {
          "data": {
            "image/png": "[encoded data removed]",
            "text/plain": [
              "<Figure size 600x600 with 1 Axes>"
            ]
          },
          "metadata": {},
          "output_type": "display_data"
        }
      ],
      "source": [
        "plt.figure(figsize = (6, 6))\n",
        "sns.countplot(x = 'Date', data=walmart)\n",
        "plt.show()"
      ]
    },
    {
      "cell_type": "code",
      "execution_count": 18,
      "metadata": {},
      "outputs": [
        {
          "data": {
            "image/png": "[encoded data removed]",
            "text/plain": [
              "<Figure size 800x800 with 1 Axes>"
            ]
          },
          "metadata": {},
          "output_type": "display_data"
        }
      ],
      "source": [
        "plt.figure(figsize = (8, 8))\n",
        "sns.countplot(x = 'Fuel_Price', data=walmart)\n",
        "plt.show()"
      ]
    }
  ],
  "metadata": {
    "accelerator": "GPU",
    "colab": {
      "gpuType": "T4",
      "provenance": []
    },
    "kernelspec": {
      "display_name": "Python 3",
      "language": "python",
      "name": "python3"
    },
    "language_info": {
      "codemirror_mode": {
        "name": "ipython",
        "version": 3
      },
      "file_extension": ".py",
      "mimetype": "text/x-python",
      "name": "python",
      "nbconvert_exporter": "python",
      "pygments_lexer": "ipython3",
      "version": "3.10.6"
    }
  },
  "nbformat": 4,
  "nbformat_minor": 0
}
